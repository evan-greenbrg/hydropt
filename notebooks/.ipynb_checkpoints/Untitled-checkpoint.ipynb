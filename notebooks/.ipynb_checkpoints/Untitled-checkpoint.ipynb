{
 "cells": [
  {
   "cell_type": "code",
   "execution_count": 3,
   "metadata": {},
   "outputs": [],
   "source": [
    "import numpy as np\n",
    "import pandas as pd"
   ]
  },
  {
   "cell_type": "code",
   "execution_count": 4,
   "metadata": {},
   "outputs": [],
   "source": [
    "OLCI_WBANDS = np.array([400,412.5,442.5,490,510,560,620,665,673.75,681.25,708.75])\n",
    "HSI_WBANDS = np.linspace(400, 710, 100)"
   ]
  },
  {
   "cell_type": "code",
   "execution_count": 38,
   "metadata": {},
   "outputs": [],
   "source": [
    "class IOP_model:\n",
    "    def __init__(self):\n",
    "        self._wavebands = None\n",
    "        self.iop_model = None\n",
    "    \n",
    "    def set_iop(self, wavebands, *args):\n",
    "        CNAME = 'comp'\n",
    "        comp_name = [CNAME + '_{}'.format(i) for i in range(len(args))]\n",
    "        if check_wavelen(wavebands, *args):\n",
    "            self._wavebands = wavebands\n",
    "            self.iop_model = {i: j for (i,j) in zip(comp_name,args)}\n",
    "    \n",
    "    def get_iop(self, *args):\n",
    "        return self.iop_model(*args)[0]()\n",
    "    \n",
    "    def get_gradient(self, *args):\n",
    "        return self.iop_model(*args)[1]()\n",
    "    \n",
    "    @staticmethod\n",
    "    def check_wavelen(wavebands, *args):\n",
    "        models = [i for i in args]\n",
    "        # check dimensions of models; skip gradients for now\n",
    "        dims = [i(1)[0]().shape[1] for i in models]\n",
    "        # check if all dimension match\n",
    "        if len(set(dims)) != 1:\n",
    "            raise ValueError('length of IOP vectors do not match')\n",
    "        elif dims[0] != len(wavebands):\n",
    "            raise ValueError('number of wavebands do not match with length of IOP vectors')\n",
    "        \n",
    "        return True"
   ]
  },
  {
   "cell_type": "code",
   "execution_count": 20,
   "metadata": {},
   "outputs": [],
   "source": [
    "def check_wavelen(wavebands, *args):\n",
    "        models = [i for i in args]\n",
    "        # check dimensions of models; skip gradients for now\n",
    "        dims = [i(1)[0]().shape[1] for i in models]\n",
    "        # check if all dimension match\n",
    "        if len(set(dims)) != 1:\n",
    "            raise ValueError('length of IOP vectors do not match')\n",
    "        elif dims[0] != len(wavebands):\n",
    "            raise ValueError('number of wavebands do not match with length of IOP vectors')\n",
    "        \n",
    "        return True"
   ]
  },
  {
   "cell_type": "code",
   "execution_count": 25,
   "metadata": {},
   "outputs": [],
   "source": [
    "def nap(*args):\n",
    "    '''\n",
    "    IOP model for NAP\n",
    "    '''\n",
    "    # vectorized\n",
    "    def iop(spm=args):\n",
    "        return spm*np.array([(.041*.75*np.exp(-.0123*(OLCI_WBANDS-443))), 0.57*(550/OLCI_WBANDS)])\n",
    "    \n",
    "    def gradient():\n",
    "        d_a = .03075*np.exp(-.0123*(OLCI_WBANDS-443))\n",
    "        d_b = 0.57*(550/OLCI_WBANDS)\n",
    "        \n",
    "        return np.array([d_a, d_b])\n",
    "    \n",
    "    return iop, gradient"
   ]
  },
  {
   "cell_type": "code",
   "execution_count": 26,
   "metadata": {},
   "outputs": [],
   "source": [
    "def nap_2(*args):\n",
    "    '''\n",
    "    IOP model for NAP\n",
    "    '''\n",
    "    # vectorized\n",
    "    def iop(spm=args):\n",
    "        return spm*np.array([(.041*.75*np.exp(-.0123*(OLCI_WBANDS[:-1]-443))), 0.57*(550/OLCI_WBANDS[:-1])])\n",
    "    \n",
    "    def gradient():\n",
    "        d_a = .03075*np.exp(-.0123*(OLCI_WBANDS[:-1]-443))\n",
    "        d_b = 0.57*(550/OLCI_WBANDS[:-1])\n",
    "        \n",
    "        return np.array([d_a, d_b])\n",
    "    \n",
    "    return iop, gradient"
   ]
  },
  {
   "cell_type": "code",
   "execution_count": null,
   "metadata": {},
   "outputs": [],
   "source": []
  }
 ],
 "metadata": {
  "kernelspec": {
   "display_name": "Python 3",
   "language": "python",
   "name": "python3"
  },
  "language_info": {
   "codemirror_mode": {
    "name": "ipython",
    "version": 3
   },
   "file_extension": ".py",
   "mimetype": "text/x-python",
   "name": "python",
   "nbconvert_exporter": "python",
   "pygments_lexer": "ipython3",
   "version": "3.6.4"
  }
 },
 "nbformat": 4,
 "nbformat_minor": 4
}
