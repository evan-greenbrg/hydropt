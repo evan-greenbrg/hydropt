{
 "cells": [
  {
   "cell_type": "code",
   "execution_count": 1,
   "metadata": {},
   "outputs": [],
   "source": [
    "import numpy as np\n",
    "#import jax.numpy as np\n",
    "import pandas as pd\n",
    "import collections\n",
    "import matplotlib.pyplot as plt\n",
    "from sklearn.preprocessing import PolynomialFeatures\n",
    "from ipywidgets import interactive, IntSlider\n",
    "from lmfit import minimize, Parameters\n",
    "import itertools\n",
    "import warnings"
   ]
  },
  {
   "cell_type": "markdown",
   "metadata": {},
   "source": [
    "CHECK DIAGONAL COEF, POLYNOMIAL FEATURES"
   ]
  },
  {
   "cell_type": "code",
   "execution_count": 2,
   "metadata": {},
   "outputs": [],
   "source": [
    "plt.style.use('ggplot')"
   ]
  },
  {
   "cell_type": "code",
   "execution_count": 3,
   "metadata": {},
   "outputs": [],
   "source": [
    "OLCI_WBANDS = np.array([400,412.5,442.5,490,510,560,620,665,673.75,681.25,708.75])\n",
    "HSI_WBANDS = np.arange(400, 711, 5)\n",
    "WBANDS = OLCI_WBANDS"
   ]
  },
  {
   "cell_type": "code",
   "execution_count": 4,
   "metadata": {},
   "outputs": [],
   "source": [
    "def interpolate_to_wavebands(data, wavelength, index='wavelength'):\n",
    "    '''\n",
    "    interpolates SIOPs to OLCI/MERIS wavebands\n",
    "    '''\n",
    "    data.reset_index(inplace=True)\n",
    "    # add OLCI/MERIS wavebands to phytop SIOP wavelengths\n",
    "    wband_merge = np.unique(sorted(np.append(data[index], wavelength)))\n",
    "    \n",
    "    data.set_index(index, inplace=True)\n",
    "    data = data.reindex(wband_merge)\\\n",
    "        .astype(float)\\\n",
    "        .interpolate(method='slinear', fill_value=0, limit_direction='both')\\\n",
    "        .reindex(wavelength)\n",
    "    \n",
    "    return data"
   ]
  },
  {
   "cell_type": "code",
   "execution_count": 5,
   "metadata": {},
   "outputs": [],
   "source": [
    "# load phytoplankton basis vector\n",
    "a_phyto_base_full = pd.read_csv('../hydropt/data/phyto_siop.csv', sep=';', index_col=0)\n",
    "# interpolate to OLCI wavebands\n",
    "a_phyto_base = interpolate_to_wavebands(data=a_phyto_base_full, wavelength=WBANDS)"
   ]
  },
  {
   "cell_type": "code",
   "execution_count": 6,
   "metadata": {},
   "outputs": [],
   "source": [
    "class IOP_model:\n",
    "    def __init__(self):\n",
    "        self._wavebands = None\n",
    "        self.iop_model = None\n",
    "    \n",
    "    def set_iop(self, wavebands, **kwargs):\n",
    "        if self.check_wavelen(wavebands, **kwargs):\n",
    "            self._wavebands = wavebands\n",
    "            self.iop_model = {k: v for (k,v) in kwargs.items()}\n",
    "    \n",
    "    def get_iop(self, **kwargs):\n",
    "        iops = []\n",
    "        for k, value in kwargs.items():\n",
    "            iops.append([self.iop_model.get(k)(value)[0]()])\n",
    "        \n",
    "        iops = np.vstack(iops)\n",
    "        \n",
    "        return iops\n",
    "   \n",
    "    def get_gradient(self, **kwargs):\n",
    "        grads = []\n",
    "        for k, value in kwargs.items():\n",
    "            grads.append([self.iop_model.get(k)(value)[1]()])\n",
    "        \n",
    "        grads = np.vstack(grads)\n",
    "        \n",
    "        return grads\n",
    "    \n",
    "    def sum_iop(self, **kwargs):\n",
    "        iops = self.get_iop(**kwargs).sum(axis=0)\n",
    "        \n",
    "        return iops\n",
    "    \n",
    "    def plot(self, **kwargs):\n",
    "        n = len(kwargs)\n",
    "        fig, axs = plt.subplots(1,n, figsize=(14,4))\n",
    "        # clean-up loop code\n",
    "        for (k,v), ax in zip(kwargs.items(), axs):\n",
    "            ax2 = ax.twinx()\n",
    "            ax.plot(self._wavebands, self.get_iop(**{k:v})[0][0])\n",
    "            ax.set_xlabel('wavelength')\n",
    "            ax.set_ylabel('absorption')\n",
    "            ax.set_title(k)\n",
    "            ax2.plot(self._wavebands, self.get_iop(**{k:v})[0][1], color='blue')\n",
    "            ax2.set_ylabel('backscatter')\n",
    "        plt.tight_layout()\n",
    "        #return fig\n",
    "        \n",
    "    @staticmethod\n",
    "    def check_wavelen(wavebands, **kwargs):\n",
    "        models = [i for i in kwargs.values()]\n",
    "        # check dimensions of models; skip gradients for now\n",
    "        dims = [i(1)[0]().shape[1] for i in models]\n",
    "        # check if all dimension match\n",
    "        if len(set(dims)) != 1:\n",
    "            raise ValueError('length of IOP vectors do not match')\n",
    "        elif dims[0] != len(wavebands):\n",
    "            raise ValueError('number of wavebands do not match with length of IOP vectors')\n",
    "        \n",
    "        return True"
   ]
  },
  {
   "cell_type": "code",
   "execution_count": 7,
   "metadata": {},
   "outputs": [],
   "source": [
    "class Hydropt:\n",
    "    def __init__(self, iop_model):\n",
    "        self.iop_model = iop_model\n",
    "        self._weights = np.ones([len(iop_model._wavebands), 1])\n",
    "        self.model_coef = None\n",
    "        self.model_powers = None\n",
    "        self.set_model_coef()\n",
    "        \n",
    "    def set_model_coef(self):\n",
    "        model_coef = pd.read_csv('../../hydropt_4_sent3/data/processed/model_coefficients/OLCI_polynom_05.csv', index_col = 0)\n",
    "        #model_coef = pd.read_csv('../hydropt/data/OLCI_polynom_04.csv', index_col = 0)\n",
    "        # check if wavebands match\n",
    "        if np.array_equal(model_coef.index, self.iop_model._wavebands):\n",
    "            self.model_coef = model_coef\n",
    "            self.model_powers = PolynomialFeatures(degree=5).fit([[1,1]]).powers_\n",
    "        else:\n",
    "            raise ValueError('wavebands do not match number of model coefficients')\n",
    "            \n",
    "    def hydrolight_polynom(self, x): #, degree=5):\n",
    "        '''\n",
    "        Forward model using polynomial fit to Hydrolight simulations\n",
    "\n",
    "        x[0]: total absorption at wavelength i\n",
    "        x[1]: total backscatter at wavelength i\n",
    "\n",
    "        returns Rrs\n",
    "        '''\n",
    "        # log absorption, backscatter\n",
    "        x_log = np.log(x)\n",
    "        # get polynomial features\n",
    "        #ft = PolynomialFeatures(degree=degree).fit_transform(x_log.T)\n",
    "        ft = self._polynomial_features(x_log.T)\n",
    "        # get polynomial coefficients\n",
    "        c = self.model_coef.values\n",
    "        # calculate log(Rrs)\n",
    "        log_rrs = np.dot(c, ft.T).diagonal()\n",
    "        # calculate Rrs\n",
    "        rrs = np.exp(log_rrs)\n",
    "\n",
    "        return rrs\n",
    "    \n",
    "    def _polynomial_features(self, x):\n",
    "        x = x.T\n",
    "        f = np.array([(x[0]**i)*(x[1]**j) for (i,j) in self.model_powers]).T\n",
    "    \n",
    "        return f\n",
    "    \n",
    "    def forward(self, **kwargs):\n",
    "        # calculate total absorption/backscatter\n",
    "        iop = self.iop_model.sum_iop(**kwargs)\n",
    "        \n",
    "        return self.hydrolight_polynom(iop)\n",
    "    \n",
    "    def gradient(self, x):\n",
    "        '''\n",
    "        Jacobian at [x] of the remote-sensing reflectance (Rrs),\n",
    "        using the Hydrolight polynomial as forward model, w.r.t concentration of constituents\n",
    "\n",
    "        x - instance of lmfit.Parameters\n",
    "        '''\n",
    "        if isinstance(x, Parameters):\n",
    "            # params to dict\n",
    "            x = dict(x.valuesdict())\n",
    "            \n",
    "        def grad_2d_polynomial(x):\n",
    "            '''\n",
    "            gradient of 2 variable polynomial\n",
    "\n",
    "            x: points at wich to evaluate the derivative; a nx2 array were n is number of wavebands\n",
    "            '''\n",
    "            c = self.model_coef.values\n",
    "            p = self.model_powers\n",
    "            # check if dimensions match of polynomial and x\n",
    "            if c.shape[0] is not x.shape[0]:\n",
    "                warnings.warn('matrix dimensions of x and c do not match!')\n",
    "            # get derivative terms of polynomial features\n",
    "            d_x1 = lambda x, p: p[0]*x[0]**(float(p[0]-1))*x[1]**p[1]\n",
    "            d_x2 = lambda x, p: p[1]*x[1]**(float(p[1]-1))*x[0]**p[0]\n",
    "            # evaluate terms at [x]\n",
    "            ft = np.array([[d_x1(x,p), d_x2(x,p)] for (x,p) in zip(itertools.cycle([x.T]), p)])\n",
    "            # dot derivative matrix with polynomial coefficients and get diagonal\n",
    "            dx = np.array([np.dot(c,ft[:,0,:]).diagonal(),\n",
    "                           np.dot(c,ft[:,1,:]).diagonal()])\n",
    "\n",
    "            return dx\n",
    "        \n",
    "        # calculate total IOPs\n",
    "        iop = self.iop_model.sum_iop(**x)\n",
    "        # calculate Rrs\n",
    "        rrs = self.forward(**x)\n",
    "        # (dln(a)/da) * (dRrs/dln(Rrs)) = Rrs/a\n",
    "        # (dln(b)/db) * (dRrs/dln(Rrs)) = Rrs/b\n",
    "        # do element-wise multiplication\n",
    "        grad_log_iops = np.array([rrs/iop[0],rrs/iop[1]]) * self.iop_model.get_gradient(**x)\n",
    "        # evaluate jacobian of hydrolight polynomial at x\n",
    "        grad_polynom = grad_2d_polynomial(np.log(iop.T))\n",
    "        # initialize empty jacobian matrix\n",
    "        jac = np.empty([grad_polynom.shape[1], grad_log_iops.shape[0]])  \n",
    "        for c, (i,j) in enumerate(zip(grad_polynom.T, grad_log_iops.T)):\n",
    "            jac[c] = np.dot(i,j)\n",
    "        # do element-wise multiplication of jacobian with weights matrix\n",
    "        jac = jac*self._weights\n",
    "        \n",
    "        return jac"
   ]
  },
  {
   "cell_type": "code",
   "execution_count": 8,
   "metadata": {},
   "outputs": [],
   "source": [
    "def polynom(x, deg):\n",
    "    x = x.T\n",
    "    powers = PolynomialFeatures(degree=deg).fit([[1,1]]).powers_\n",
    "    f = np.array([(x[0]**i)*(x[1]**j) for (i,j) in powers]).T\n",
    "    \n",
    "    return f"
   ]
  },
  {
   "cell_type": "code",
   "execution_count": 9,
   "metadata": {},
   "outputs": [],
   "source": [
    "def nap(*args, wb):\n",
    "    '''\n",
    "    IOP model for NAP\n",
    "    '''\n",
    "    # vectorized\n",
    "    def iop(spm=args[0]):\n",
    "        return spm*np.array([(.041*.75*np.exp(-.0123*(wb-443))), .014*0.57*(550/wb)])\n",
    "    \n",
    "    def gradient():\n",
    "        d_a = .03075*np.exp(-.0123*(wb-443))\n",
    "        d_b = .014*0.57*(550/wb)\n",
    "        \n",
    "        return np.array([d_a, d_b])\n",
    "    \n",
    "    return iop, gradient"
   ]
  },
  {
   "cell_type": "code",
   "execution_count": 10,
   "metadata": {},
   "outputs": [],
   "source": [
    "def cdom(*args, wb):\n",
    "    '''\n",
    "    IOP model for CDOM\n",
    "    '''\n",
    "    def iop(a_440=args[0]):\n",
    "        return np.array([a_440*np.exp(-0.017*(wb-440)), np.zeros(len(wb))])\n",
    "    \n",
    "    def gradient():\n",
    "        '''\n",
    "        Gradient of CDOM IOP model\n",
    "        ''' \n",
    "        d_a = np.exp(-.017*(wb-440))\n",
    "        d_b = np.zeros(len(d_a))\n",
    "        \n",
    "        return np.array([d_a, d_b])\n",
    "    \n",
    "    return iop, gradient"
   ]
  },
  {
   "cell_type": "code",
   "execution_count": 11,
   "metadata": {},
   "outputs": [],
   "source": [
    "def phyto(*args):\n",
    "    '''\n",
    "    IOP model for phytoplankton w. \n",
    "    packaging effect - according to Prieur&Sathyenadrath (1981)\n",
    "    basis vector - according to Ciotti&Cullen 2002\n",
    "    '''   \n",
    "    def iop(chl=args[0]):\n",
    "        # calculate absorption\n",
    "        a = 0.06*np.power(chl,.65)*a_phyto_base.absorption.values\n",
    "        # calculate backscatter according to 0.1-tadzio-IOP_backscatter\n",
    "        # notebook in hydropt-4-sent3\n",
    "        b = np.repeat(.014*0.18*np.power(chl,.471), len(a))\n",
    "        \n",
    "        return np.array([a, b])\n",
    "    \n",
    "    def gradient():\n",
    "        return np.zeros([2,63])\n",
    "    \n",
    "    return iop, gradient"
   ]
  },
  {
   "cell_type": "code",
   "execution_count": 12,
   "metadata": {},
   "outputs": [],
   "source": [
    "def waveband_wrapper(f, wb):\n",
    "    def inner(*args, **kwargs):\n",
    "        kwargs['wb'] = wb\n",
    "        return f(*args, **kwargs)\n",
    "    return inner"
   ]
  },
  {
   "cell_type": "code",
   "execution_count": 13,
   "metadata": {},
   "outputs": [],
   "source": [
    "class ThreeCompModel(IOP_model):\n",
    "    def __init__(self):\n",
    "        self.set_iop(OLCI_WBANDS, \n",
    "                     nap=waveband_wrapper(nap, wb=OLCI_WBANDS),\n",
    "                     cdom=waveband_wrapper(cdom, wb=OLCI_WBANDS),\n",
    "                     chl=phyto)"
   ]
  },
  {
   "cell_type": "code",
   "execution_count": 14,
   "metadata": {},
   "outputs": [],
   "source": [
    "params_c1 = Parameters()\n",
    "params_c1.add('cdom', value=2.0, min=1E-9, max=9)\n",
    "params_c1.add('nap', value=2.0, min=1E-9, max=9)\n",
    "#params_c1.add('chl', value=1.0, min=1E-9, max=100)"
   ]
  },
  {
   "cell_type": "code",
   "execution_count": 41,
   "metadata": {},
   "outputs": [],
   "source": [
    "a = ThreeCompModel()"
   ]
  },
  {
   "cell_type": "code",
   "execution_count": 42,
   "metadata": {},
   "outputs": [
    {
     "data": {
      "image/png": "[encoded data removed]",
      "text/plain": [
       "<Figure size 1008x288 with 6 Axes>"
      ]
     },
     "metadata": {},
     "output_type": "display_data"
    }
   ],
   "source": [
    "a.plot(cdom=1, nap=1, chl=1)"
   ]
  },
  {
   "cell_type": "code",
   "execution_count": 43,
   "metadata": {},
   "outputs": [],
   "source": [
    "ps1 = Hydropt(a)"
   ]
  },
  {
   "cell_type": "code",
   "execution_count": 44,
   "metadata": {},
   "outputs": [
    {
     "data": {
      "text/plain": [
       "[<matplotlib.lines.Line2D at 0x7f9aea2605f8>]"
      ]
     },
     "execution_count": 44,
     "metadata": {},
     "output_type": "execute_result"
    },
    {
     "data": {
      "image/png": "[encoded data removed]",
      "text/plain": [
       "<Figure size 432x288 with 1 Axes>"
      ]
     },
     "metadata": {},
     "output_type": "display_data"
    }
   ],
   "source": [
    "plt.plot(WBANDS, ps1.forward(chl=.1, nap=1E-2, cdom=1E-2))"
   ]
  },
  {
   "cell_type": "code",
   "execution_count": 45,
   "metadata": {},
   "outputs": [
    {
     "data": {
      "text/plain": [
       "DeviceArray([0.01053044, 0.01209639, 0.0167674 , 0.0272333 , 0.03255881,\n",
       "             0.04834354, 0.05407521, 0.051039  , 0.05068929, 0.04980596,\n",
       "             0.03605314], dtype=float32)"
      ]
     },
     "execution_count": 45,
     "metadata": {},
     "output_type": "execute_result"
    }
   ],
   "source": [
    "ps1.forward(chl=.1, nap=100, cdom=1E-1)"
   ]
  },
  {
   "cell_type": "code",
   "execution_count": 46,
   "metadata": {},
   "outputs": [
    {
     "name": "stdout",
     "output_type": "stream",
     "text": [
      "[0.99999624 0.9999983  1.0000036  0.999996   0.999984   0.9999869\n",
      " 1.0000156  1.0000125  0.9999905  0.9999941  1.0000011 ]\n",
      "\n",
      "\n",
      "[0.9999968 1.0000008 1.000006  1.0000117 0.9999969 0.9999737 1.0000176\n",
      " 1.0000027 0.9999774 0.9999863 1.0000019]\n"
     ]
    }
   ],
   "source": [
    "from jax import grad, jacfwd, jacrev\n",
    "import numpy as np\n",
    "x_1 = {'cdom': 1E-3, 'nap': 1E-2}\n",
    "p1 = Parameters()\n",
    "p1.add('cdom', value=x_1['cdom'], min=1E-9, max=1E9)\n",
    "p1.add('nap', value=x_1['nap'], min=1E-9, max=1E9)\n",
    "a = ps1.gradient(p1)\n",
    "import jax.numpy as np\n",
    "f_x = lambda x: ps1.forward(**x)\n",
    "b = jacfwd(f_x)(x_1)\n",
    "print(a[:,0]/b['cdom'])\n",
    "print('\\n')\n",
    "print(a[:,1]/b['nap'])"
   ]
  },
  {
   "cell_type": "code",
   "execution_count": 40,
   "metadata": {},
   "outputs": [
    {
     "data": {
      "text/plain": [
       "(2, 63, 2)"
      ]
     },
     "execution_count": 40,
     "metadata": {},
     "output_type": "execute_result"
    }
   ],
   "source": [
    "g_x = lambda x: ps1.hydrolight_polynom(x)\n",
    "jacfwd(ps1.hydrolight_polynom)(np.ones([2,63]).T).shape"
   ]
  },
  {
   "cell_type": "markdown",
   "metadata": {},
   "source": [
    "## validate Hydropt class\n",
    "load PACE hydrolight simulations and compare to Hydropt forward model"
   ]
  },
  {
   "cell_type": "code",
   "execution_count": 14,
   "metadata": {},
   "outputs": [],
   "source": [
    "pace_hl = pd.read_csv('/Users/tadzio/Documents/code_repo/hydropt_4_sent3/data/interim/RRS_NADIR_PACE_acoef_bbcoef.csv',\n",
    "                      index_col=['CDOM', 'NAP', 'Chl'])"
   ]
  },
  {
   "cell_type": "code",
   "execution_count": 15,
   "metadata": {},
   "outputs": [],
   "source": [
    "def plot_rrs(x):\n",
    "    value = pace_hl.index.unique()[x]\n",
    "    rrs_hl = pace_hl.loc[(value[0], value[1], value[2]), 'rrs'].values\n",
    "    rrs_hydr = ps1.forward(cdom=value[0], nap=value[1], chl=value[2])\n",
    "    plt.plot(HSI_WBANDS, rrs_hl, label='hl')\n",
    "    plt.plot(HSI_WBANDS, rrs_hydr, label='hydropt')\n",
    "    plt.legend()"
   ]
  },
  {
   "cell_type": "code",
   "execution_count": 16,
   "metadata": {},
   "outputs": [],
   "source": [
    "def iplot_rrs():\n",
    "    iplot = interactive(plot_rrs, x=IntSlider(value=0, min=0, max=999))\n",
    "    output = iplot.children[-1]\n",
    "    output.layout.height = '300px'\n",
    "    return iplot"
   ]
  },
  {
   "cell_type": "code",
   "execution_count": 17,
   "metadata": {},
   "outputs": [
    {
     "data": {
      "application/vnd.jupyter.widget-view+json": {
       "model_id": "9c7403fa592942dcbcc58ce16a7ff1be",
       "version_major": 2,
       "version_minor": 0
      },
      "text/plain": [
       "interactive(children=(IntSlider(value=0, description='x', max=999), Output(layout=Layout(height='300px'))), _d…"
      ]
     },
     "metadata": {},
     "output_type": "display_data"
    }
   ],
   "source": [
    "iplot_rrs()"
   ]
  },
  {
   "cell_type": "code",
   "execution_count": null,
   "metadata": {},
   "outputs": [],
   "source": []
  }
 ],
 "metadata": {
  "kernelspec": {
   "display_name": "Python 3.6.4 64-bit ('hydropt-4-sent3': conda)",
   "language": "python",
   "name": "python36464bithydropt4sent3condaecaad8e5a2a4432fb3fef79a9eadc220"
  },
  "language_info": {
   "codemirror_mode": {
    "name": "ipython",
    "version": 3
   },
   "file_extension": ".py",
   "mimetype": "text/x-python",
   "name": "python",
   "nbconvert_exporter": "python",
   "pygments_lexer": "ipython3",
   "version": "3.6.4"
  }
 },
 "nbformat": 4,
 "nbformat_minor": 4
}
