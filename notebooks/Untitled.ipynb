{
 "cells": [
  {
   "cell_type": "code",
   "execution_count": 460,
   "metadata": {},
   "outputs": [],
   "source": [
    "import numpy as np\n",
    "import pandas as pd\n",
    "import collections\n",
    "import matplotlib.pyplot as plt\n",
    "from sklearn.preprocessing import PolynomialFeatures"
   ]
  },
  {
   "cell_type": "code",
   "execution_count": 461,
   "metadata": {},
   "outputs": [],
   "source": [
    "plt.style.use('ggplot')"
   ]
  },
  {
   "cell_type": "code",
   "execution_count": 599,
   "metadata": {},
   "outputs": [],
   "source": [
    "OLCI_WBANDS = np.array([400,412.5,442.5,490,510,560,620,665,673.75,681.25,708.75])\n",
    "HSI_WBANDS = np.arange(400, 711, 5)\n",
    "WBANDS = HSI_WBANDS"
   ]
  },
  {
   "cell_type": "code",
   "execution_count": 600,
   "metadata": {},
   "outputs": [],
   "source": [
    "def interpolate_to_wavebands(data, wavelength, index='wavelength'):\n",
    "    '''\n",
    "    interpolates SIOPs to OLCI/MERIS wavebands\n",
    "    '''\n",
    "    data.reset_index(inplace=True)\n",
    "    # add OLCI/MERIS wavebands to phytop SIOP wavelengths\n",
    "    wband_merge = np.unique(sorted(np.append(data[index], wavelength)))\n",
    "    \n",
    "    data.set_index(index, inplace=True)\n",
    "    data = data.reindex(wband_merge)\\\n",
    "        .astype(float)\\\n",
    "        .interpolate(method='slinear', fill_value=0, limit_direction='both')\\\n",
    "        .reindex(wavelength)\n",
    "    \n",
    "    return data"
   ]
  },
  {
   "cell_type": "code",
   "execution_count": null,
   "metadata": {},
   "outputs": [],
   "source": []
  },
  {
   "cell_type": "code",
   "execution_count": 601,
   "metadata": {},
   "outputs": [],
   "source": [
    "class IOP_model:\n",
    "    def __init__(self):\n",
    "        self._wavebands = None\n",
    "        self.iop_model = None\n",
    "    \n",
    "    def set_iop(self, wavebands, **kwargs):\n",
    "        if self.check_wavelen(wavebands, **kwargs):\n",
    "            self._wavebands = wavebands\n",
    "            self.iop_model = {k: v for (k,v) in kwargs.items()}\n",
    "    \n",
    "    def get_iop(self, **kwargs):\n",
    "        iops = []\n",
    "        for k, value in kwargs.items():\n",
    "            iops.append([self.iop_model.get(k)(value)[0]()])\n",
    "        \n",
    "        iops = np.vstack(iops)\n",
    "        \n",
    "        return iops\n",
    "   \n",
    "    def get_gradient(self, **kwargs):\n",
    "        grads = []\n",
    "        for k, value in kwargs.items():\n",
    "            grads.append(self.iop_model.get(k)(value)[1]())\n",
    "        \n",
    "        grads = np.vstack(grads)\n",
    "        \n",
    "        return grads\n",
    "    \n",
    "    def sum_iop(self, **kwargs):\n",
    "        iops = self.get_iop(**kwargs).sum(axis=0)\n",
    "        \n",
    "        return iops\n",
    "    \n",
    "    def plot(self, **kwargs):\n",
    "        n = len(kwargs)\n",
    "        fig, axs = plt.subplots(n)\n",
    "        # clean-up loop code\n",
    "        for (k,v), ax in zip(kwargs.items(), axs):\n",
    "            ax2 = ax.twinx()\n",
    "            ax.plot(self._wavebands, self.get_iop(**{k:v})[0][0])\n",
    "            ax.set_xlabel('wavelength')\n",
    "            ax.set_ylabel('absorption')\n",
    "            ax.set_title(k)\n",
    "            ax2.plot(self._wavebands, self.get_iop(**{k:v})[0][1], color='blue')\n",
    "            ax2.set_ylabel('backscatter')\n",
    "        plt.tight_layout()\n",
    "        #return fig\n",
    "        \n",
    "    @staticmethod\n",
    "    def check_wavelen(wavebands, **kwargs):\n",
    "        models = [i for i in kwargs.values()]\n",
    "        # check dimensions of models; skip gradients for now\n",
    "        dims = [i(1)[0]().shape[1] for i in models]\n",
    "        # check if all dimension match\n",
    "        if len(set(dims)) != 1:\n",
    "            raise ValueError('length of IOP vectors do not match')\n",
    "        elif dims[0] != len(wavebands):\n",
    "            raise ValueError('number of wavebands do not match with length of IOP vectors')\n",
    "        \n",
    "        return True"
   ]
  },
  {
   "cell_type": "code",
   "execution_count": 602,
   "metadata": {},
   "outputs": [],
   "source": [
    "class Hydropt:\n",
    "    def __init__(self, iop_model):\n",
    "        self.iop_model = iop_model\n",
    "        self.model_coef = None\n",
    "        self.model_powers = None\n",
    "        self.set_model_coef()\n",
    "        \n",
    "    def set_model_coef(self):\n",
    "        model_coef = pd.read_csv('../hydropt/data/PACE_polynom_05.csv', index_col = 0)\n",
    "        # check if wavebands match\n",
    "        if np.array_equal(model_coef.index, self.iop_model._wavebands):\n",
    "            self.model_coef = model_coef\n",
    "            self.model_powers = PolynomialFeatures(degree=5).fit([[1,1]]).powers_\n",
    "        else:\n",
    "            raise ValueError('wavebands do not match number of model coefficients')\n",
    "            \n",
    "    def hydrolight_polynom(self, x, degree=5):\n",
    "        '''\n",
    "        Forward model using polynomial fit to Hydrolight simulations\n",
    "\n",
    "        x[0]: total absorption at wavelength i\n",
    "        x[1]: total backscatter at wavelength i\n",
    "\n",
    "        returns Rrs\n",
    "        '''\n",
    "        # log absorption, backscatter\n",
    "        x_log = np.log(x)\n",
    "        # get polynomial features\n",
    "        ft = PolynomialFeatures(degree=degree).fit_transform(x_log.T)\n",
    "        # get polynomial coefficients\n",
    "        c = self.model_coef\n",
    "        # calculate log(Rrs)\n",
    "        log_rrs = np.dot(c, ft.T).diagonal()\n",
    "        # calculate Rrs\n",
    "        rrs = np.exp(log_rrs)\n",
    "\n",
    "        return rrs\n",
    "    \n",
    "    def forward(self, **kwargs):\n",
    "        # calculate total absorption/backscatter\n",
    "        iop = self.iop_model.sum_iop(**kwargs)\n",
    "        \n",
    "        return self.hydrolight_polynom(iop)"
   ]
  },
  {
   "cell_type": "code",
   "execution_count": 603,
   "metadata": {},
   "outputs": [],
   "source": [
    "def nap(*args):\n",
    "    '''\n",
    "    IOP model for NAP\n",
    "    '''\n",
    "    # vectorized\n",
    "    def iop(spm=args):\n",
    "        return spm*np.array([(.041*.75*np.exp(-.0123*(WBANDS-443))), .014*0.57*(550/WBANDS)])\n",
    "    \n",
    "    def gradient():\n",
    "        d_a = .03075*np.exp(-.0123*(WBANDS-443))\n",
    "        d_b = .014*0.57*(550/WBANDS)\n",
    "        \n",
    "        return np.array([d_a, d_b])\n",
    "    \n",
    "    return iop, gradient"
   ]
  },
  {
   "cell_type": "code",
   "execution_count": 604,
   "metadata": {},
   "outputs": [],
   "source": [
    "def cdom(*args):\n",
    "    '''\n",
    "    IOP model for CDOM\n",
    "    '''\n",
    "    def iop(a_440=args):\n",
    "        return np.array([a_440*np.exp(-0.017*(WBANDS-440)), np.zeros(len(WBANDS))])\n",
    "    \n",
    "    def gradient():\n",
    "        '''\n",
    "        Gradient of CDOM IOP model\n",
    "        ''' \n",
    "        d_a = np.exp(-.017*(WBANDS-440))\n",
    "        d_b = np.zeros(len(d_a))\n",
    "        \n",
    "        return np.array([d_a, d_b])\n",
    "    \n",
    "    return iop, gradient"
   ]
  },
  {
   "cell_type": "code",
   "execution_count": 605,
   "metadata": {},
   "outputs": [],
   "source": [
    "def phyto(*args):\n",
    "    '''\n",
    "    IOP model for phytoplankton w. \n",
    "    packaging effect - according to Prieur&Sathyenadrath (1981)\n",
    "    basis vector - according to Ciotti&Cullen 2002\n",
    "    '''\n",
    "    # load phytoplankton basis vector\n",
    "    a_phyto_base = pd.read_csv('../hydropt/data/phyto_siop.csv', sep=';', index_col=0)\n",
    "    # interpolate to OLCI wavebands\n",
    "    a_phyto_base = interpolate_to_wavebands(data=a_phyto_base, wavelength=WBANDS)\n",
    "    # remove negative absorption values and set to 0\n",
    "    #a_phyto_base.loc[708.75] = 0\n",
    "    \n",
    "    def iop(chl=args):\n",
    "        # calculate absorption\n",
    "        a = 0.06*np.power(chl,.65)*a_phyto_base.absorption.values\n",
    "        # calculate backscatter according to 0.1-tadzio-IOP_backscatter\n",
    "        # notebook in hydropt-4-sent3\n",
    "        b = np.repeat(.014*0.18*np.power(chl,.471), len(a))\n",
    "        \n",
    "        return np.array([a, b])\n",
    "    \n",
    "    def gradient():\n",
    "        return None\n",
    "    \n",
    "    return iop, gradient"
   ]
  },
  {
   "cell_type": "code",
   "execution_count": 590,
   "metadata": {},
   "outputs": [],
   "source": [
    "class ThreeCompModel(IOP_model):\n",
    "    def __init__(self):\n",
    "        self._wavebands = OLCI_WBANDS\n",
    "        self.iop_model = {'nap': nap,\n",
    "                          'cdom': cdom,\n",
    "                          'phyto': phyto}"
   ]
  },
  {
   "cell_type": "code",
   "execution_count": 606,
   "metadata": {},
   "outputs": [],
   "source": [
    "a = IOP_model()\n",
    "a.set_iop(WBANDS, nap=nap, cdom=cdom, phyto=phyto)"
   ]
  },
  {
   "cell_type": "code",
   "execution_count": 608,
   "metadata": {},
   "outputs": [
    {
     "data": {
      "image/png": "[encoded data removed]",
      "text/plain": [
       "<Figure size 432x288 with 6 Axes>"
      ]
     },
     "metadata": {},
     "output_type": "display_data"
    }
   ],
   "source": [
    "a.plot(cdom=1, nap=1, phyto=1)"
   ]
  },
  {
   "cell_type": "code",
   "execution_count": 609,
   "metadata": {},
   "outputs": [],
   "source": [
    "ps1 = Hydropt(a)"
   ]
  },
  {
   "cell_type": "markdown",
   "metadata": {},
   "source": [
    "## to do:\n",
    "change scatter model IOPs to backscatter model for PACE polynomial. "
   ]
  },
  {
   "cell_type": "code",
   "execution_count": null,
   "metadata": {},
   "outputs": [],
   "source": []
  }
 ],
 "metadata": {
  "kernelspec": {
   "display_name": "Python 3",
   "language": "python",
   "name": "python3"
  },
  "language_info": {
   "codemirror_mode": {
    "name": "ipython",
    "version": 3
   },
   "file_extension": ".py",
   "mimetype": "text/x-python",
   "name": "python",
   "nbconvert_exporter": "python",
   "pygments_lexer": "ipython3",
   "version": "3.6.4"
  }
 },
 "nbformat": 4,
 "nbformat_minor": 4
}
