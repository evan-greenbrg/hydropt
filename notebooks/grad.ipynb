{
 "cells": [
  {
   "cell_type": "code",
   "execution_count": 239,
   "metadata": {},
   "outputs": [],
   "source": [
    "import jax.numpy as np\n",
    "from jax import grad, jacfwd, jacrev\n",
    "import pandas as pd\n",
    "import collections\n",
    "from sklearn.preprocessing import PolynomialFeatures\n",
    "from scipy.optimize import root\n",
    "import matplotlib.pyplot as plt\n",
    "import itertools\n",
    "import warnings"
   ]
  },
  {
   "cell_type": "markdown",
   "metadata": {},
   "source": [
    "jax jacfwd seems to give same answers as grad_2d_polynomial only different shape. Check input 3x2 matrix into grad_2d_polynomial and into gradfwd. 0 containing rows in gradfwd might be dimensions not adding up"
   ]
  },
  {
   "cell_type": "code",
   "execution_count": 24,
   "metadata": {},
   "outputs": [],
   "source": [
    "model_coef = pd.read_csv('../hydropt/data/PACE_polynom_05.csv', index_col = 0)\n",
    "model_coef = model_coef.values\n",
    "model_powers = PolynomialFeatures(degree=5).fit([[1,1]]).powers_"
   ]
  },
  {
   "cell_type": "code",
   "execution_count": 231,
   "metadata": {},
   "outputs": [],
   "source": [
    "def grad_2d_polynomial(x):\n",
    "    '''\n",
    "    gradient of 2 variable polynomial\n",
    "\n",
    "    x: points at wich to evaluate the derivative; a nx2 array were n is number of wavebands\n",
    "    '''\n",
    "    c = model_coef\n",
    "    p = model_powers\n",
    "    # check if dimensions match of polynomial and x\n",
    "    if c.shape[0] is not x.shape[0]:\n",
    "        warnings.warn('matrix dimensions of x and c do not match!')\n",
    "    # get derivative terms of polynomial features\n",
    "    d_x1 = lambda x, p: p[0]*x[0]**(float(p[0]-1))*x[1]**p[1]\n",
    "    d_x2 = lambda x, p: p[1]*x[1]**(float(p[1]-1))*x[0]**p[0]\n",
    "    # evaluate terms at [x]\n",
    "    ft = np.array([[d_x1(x,p), d_x2(x,p)] for (x,p) in zip(itertools.cycle([x.T]), p)])\n",
    "    # dot derivative matrix with polynomial coefficients and get diagonal\n",
    "    dx = np.array([np.dot(c,ft[:,0,:]).diagonal(),\n",
    "                   np.dot(c,ft[:,1,:]).diagonal()])\n",
    "\n",
    "    return dx"
   ]
  },
  {
   "cell_type": "code",
   "execution_count": 11,
   "metadata": {},
   "outputs": [],
   "source": [
    "def _polynomial_features(x):\n",
    "    x = x.T\n",
    "    f = np.array([(x[0]**i)*(x[1]**j) for (i,j) in model_powers]).T\n",
    "\n",
    "    return f"
   ]
  },
  {
   "cell_type": "code",
   "execution_count": 227,
   "metadata": {},
   "outputs": [],
   "source": [
    "#ft_in = _polynomial_features(np.ones([2,2]))\n",
    "def hydrolight_polynom(x): #, degree=5):\n",
    "    '''\n",
    "    Forward model using polynomial fit to Hydrolight simulations\n",
    "\n",
    "    x[0]: total absorption at wavelength i\n",
    "    x[1]: total backscatter at wavelength i\n",
    "\n",
    "    returns Rrs\n",
    "    '''\n",
    "    # log absorption, backscatter\n",
    "    x_log = np.log(x)\n",
    "    x_log = x\n",
    "    # get polynomial features\n",
    "    #ft = PolynomialFeatures(degree=degree).fit_transform(x_log.T)\n",
    "    ft = _polynomial_features(x_log.T)\n",
    "    # get polynomial coefficients\n",
    "    c = model_coef[5:7]\n",
    "    # calculate log(Rrs)\n",
    "    # SOMETHING GOES WRONG HERE\n",
    "    log_rrs = np.dot(c, ft.T).diagonal()\n",
    "    # calculate Rrs\n",
    "    rrs = np.exp(log_rrs)\n",
    "\n",
    "    return log_rrs"
   ]
  },
  {
   "cell_type": "code",
   "execution_count": 228,
   "metadata": {},
   "outputs": [],
   "source": [
    "def polynom(x):\n",
    "    c = model_coef[5:7]\n",
    "    f = np.array([(x[0]**i)*(x[1]**j) for (i,j) in model_powers])\n",
    "    out = np.dot(c, f).diagonal()\n",
    "    \n",
    "    return out "
   ]
  },
  {
   "cell_type": "code",
   "execution_count": 229,
   "metadata": {},
   "outputs": [
    {
     "data": {
      "text/plain": [
       "DeviceArray([[[-1.0972822,  0.       ],\n",
       "              [ 1.9201182,  0.       ]],\n",
       "\n",
       "             [[ 0.       , -1.0633963],\n",
       "              [ 0.       ,  1.8990856]]], dtype=float32)"
      ]
     },
     "execution_count": 229,
     "metadata": {},
     "output_type": "execute_result"
    }
   ],
   "source": [
    "jacfwd(hydrolight_polynom)(2*np.ones([2,2]))"
   ]
  },
  {
   "cell_type": "code",
   "execution_count": 230,
   "metadata": {},
   "outputs": [
    {
     "data": {
      "text/plain": [
       "DeviceArray([[-1.0972822, -1.0633963],\n",
       "             [ 1.9201182,  1.8990856]], dtype=float32)"
      ]
     },
     "execution_count": 230,
     "metadata": {},
     "output_type": "execute_result"
    }
   ],
   "source": [
    "grad_2d_polynomial(2*np.ones([2,2]))"
   ]
  },
  {
   "cell_type": "code",
   "execution_count": 265,
   "metadata": {},
   "outputs": [],
   "source": [
    "def fun(x):\n",
    "    return np.array([x[0]  + 0.5 * (x[0] - x[1])**3 - 1.0,\n",
    "            0.5 * (x[1] - x[0])**3 + x[1]])"
   ]
  },
  {
   "cell_type": "code",
   "execution_count": 289,
   "metadata": {},
   "outputs": [],
   "source": [
    "def fun_2(x):\n",
    "    return np.array([(x[0]  + 0.5 * (x[0] - x[1])**3 - 1.0)*2,\n",
    "            1 * ((x[1] - x[0])**3 + x[1])])"
   ]
  },
  {
   "cell_type": "code",
   "execution_count": 307,
   "metadata": {},
   "outputs": [],
   "source": [
    "def fun_3(x):\n",
    "    return np.array([x[0]**2-x[1],\n",
    "            x[0]*x[1]-3])"
   ]
  },
  {
   "cell_type": "code",
   "execution_count": 314,
   "metadata": {},
   "outputs": [],
   "source": [
    "def fun_3_2(x):\n",
    "    return np.array([(x[0]**2-x[1])/2,\n",
    "            (x[0]*x[1]-3)/2])"
   ]
  },
  {
   "cell_type": "code",
   "execution_count": null,
   "metadata": {},
   "outputs": [],
   "source": []
  }
 ],
 "metadata": {
  "kernelspec": {
   "display_name": "Python 3",
   "language": "python",
   "name": "python3"
  },
  "language_info": {
   "codemirror_mode": {
    "name": "ipython",
    "version": 3
   },
   "file_extension": ".py",
   "mimetype": "text/x-python",
   "name": "python",
   "nbconvert_exporter": "python",
   "pygments_lexer": "ipython3",
   "version": "3.6.4"
  }
 },
 "nbformat": 4,
 "nbformat_minor": 4
}
